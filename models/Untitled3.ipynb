{
  "cells": [
    {
      "cell_type": "code",
      "execution_count": 1,
      "metadata": {
        "colab": {
          "base_uri": "https://localhost:8080/",
          "height": 0
        },
        "id": "VaIb4Xwkp9u9",
        "outputId": "4b86b1fc-c389-4d17-f232-b78c6fd0f4ce"
      },
      "outputs": [
        {
          "output_type": "stream",
          "name": "stderr",
          "text": [
            "YOLOv5 🚀 v6.2-227-g78ed31c Python-3.7.15 torch-1.12.1+cu113 CPU\n"
          ]
        },
        {
          "output_type": "stream",
          "name": "stdout",
          "text": [
            "Setup complete ✅ (2 CPUs, 12.7 GB RAM, 23.1/107.7 GB disk)\n"
          ]
        }
      ],
      "source": [
        "!git clone https://github.com/ultralytics/yolov5  # clone\n",
        "%cd yolov5\n",
        "%pip install -qr requirements.txt  # install\n",
        "\n",
        "import torch\n",
        "import utils\n",
        "display = utils.notebook_init()  # checks"
      ]
    },
    {
      "cell_type": "code",
      "execution_count": 10,
      "metadata": {
        "colab": {
          "base_uri": "https://localhost:8080/",
          "height": 0
        },
        "id": "RTmXjRVypSSg",
        "outputId": "d4bfe8f6-7348-407e-b84d-aa5e13cf8a98"
      },
      "outputs": [
        {
          "output_type": "stream",
          "name": "stdout",
          "text": [
            "Looking in indexes: https://pypi.org/simple, https://us-python.pkg.dev/colab-wheels/public/simple/\n",
            "Requirement already satisfied: roboflow in /usr/local/lib/python3.7/dist-packages (0.2.18)\n",
            "Requirement already satisfied: requests in /usr/local/lib/python3.7/dist-packages (from roboflow) (2.28.1)\n",
            "Requirement already satisfied: opencv-python-headless>=4.5.1.48 in /usr/local/lib/python3.7/dist-packages (from roboflow) (4.6.0.66)\n",
            "Requirement already satisfied: tqdm>=4.41.0 in /usr/local/lib/python3.7/dist-packages (from roboflow) (4.64.1)\n",
            "Requirement already satisfied: glob2 in /usr/local/lib/python3.7/dist-packages (from roboflow) (0.7)\n",
            "Requirement already satisfied: Pillow>=7.1.2 in /usr/local/lib/python3.7/dist-packages (from roboflow) (7.1.2)\n",
            "Requirement already satisfied: python-dotenv in /usr/local/lib/python3.7/dist-packages (from roboflow) (0.21.0)\n",
            "Requirement already satisfied: chardet==4.0.0 in /usr/local/lib/python3.7/dist-packages (from roboflow) (4.0.0)\n",
            "Requirement already satisfied: requests-toolbelt in /usr/local/lib/python3.7/dist-packages (from roboflow) (0.10.1)\n",
            "Requirement already satisfied: idna==2.10 in /usr/local/lib/python3.7/dist-packages (from roboflow) (2.10)\n",
            "Requirement already satisfied: python-dateutil in /usr/local/lib/python3.7/dist-packages (from roboflow) (2.8.2)\n",
            "Requirement already satisfied: pyparsing==2.4.7 in /usr/local/lib/python3.7/dist-packages (from roboflow) (2.4.7)\n",
            "Requirement already satisfied: six in /usr/local/lib/python3.7/dist-packages (from roboflow) (1.15.0)\n",
            "Requirement already satisfied: certifi==2021.5.30 in /usr/local/lib/python3.7/dist-packages (from roboflow) (2021.5.30)\n",
            "Requirement already satisfied: numpy>=1.18.5 in /usr/local/lib/python3.7/dist-packages (from roboflow) (1.21.6)\n",
            "Requirement already satisfied: urllib3==1.26.6 in /usr/local/lib/python3.7/dist-packages (from roboflow) (1.26.6)\n",
            "Requirement already satisfied: wget in /usr/local/lib/python3.7/dist-packages (from roboflow) (3.2)\n",
            "Requirement already satisfied: PyYAML>=5.3.1 in /usr/local/lib/python3.7/dist-packages (from roboflow) (6.0)\n",
            "Requirement already satisfied: cycler==0.10.0 in /usr/local/lib/python3.7/dist-packages (from roboflow) (0.10.0)\n",
            "Requirement already satisfied: matplotlib in /usr/local/lib/python3.7/dist-packages (from roboflow) (3.2.2)\n",
            "Requirement already satisfied: kiwisolver>=1.3.1 in /usr/local/lib/python3.7/dist-packages (from roboflow) (1.4.4)\n",
            "Requirement already satisfied: typing-extensions in /usr/local/lib/python3.7/dist-packages (from kiwisolver>=1.3.1->roboflow) (4.1.1)\n",
            "Requirement already satisfied: charset-normalizer<3,>=2 in /usr/local/lib/python3.7/dist-packages (from requests->roboflow) (2.1.1)\n",
            "loading Roboflow workspace...\n",
            "loading Roboflow project...\n",
            "Downloading Dataset Version Zip in car_mot_cam-2 to folder: 100% [24278125 / 24278125] bytes\n"
          ]
        },
        {
          "output_type": "stream",
          "name": "stderr",
          "text": [
            "Extracting Dataset Version Zip to car_mot_cam-2 in folder:: 100%|██████████| 503/503 [00:00<00:00, 1120.68it/s]\n"
          ]
        }
      ],
      "source": [
        "# !pip install roboflow\n",
        "\n",
        "# from roboflow import Roboflow\n",
        "# rf = Roboflow(api_key=\"sxuCe3tFqXR656e7IOZ1\")\n",
        "# project = rf.workspace(\"dorpaciente\").project(\"car_mot_cam\")\n",
        "# dataset = project.version(1).download(\"folder\")\n",
        "\n",
        "# !pip install roboflow\n",
        "\n",
        "# from roboflow import Roboflow\n",
        "# rf = Roboflow(api_key=\"sxuCe3tFqXR656e7IOZ1\")\n",
        "# project = rf.workspace(\"dorpaciente\").project(\"paciente_dor\")\n",
        "# dataset = project.version(4).download(\"folder\")\n",
        "\n",
        "!pip install roboflow\n",
        "\n",
        "from roboflow import Roboflow\n",
        "rf = Roboflow(api_key=\"sxuCe3tFqXR656e7IOZ1\")\n",
        "project = rf.workspace(\"dorpaciente\").project(\"car_mot_cam\")\n",
        "dataset = project.version(2).download(\"folder\")"
      ]
    },
    {
      "cell_type": "code",
      "source": [
        "# Weights & Biases  (optional)\n",
        "%pip install -q wandb\n",
        "import os\n",
        "import wandb\n",
        "os.environ['WANDB_NOTEBOOK_NAME'] = 'CESAR JAM'\n",
        "wandb.init()"
      ],
      "metadata": {
        "colab": {
          "base_uri": "https://localhost:8080/",
          "height": 249
        },
        "id": "nlKXf3cKLw_d",
        "outputId": "e1142061-40f4-44fe-f164-cad18dd88465"
      },
      "execution_count": 11,
      "outputs": [
        {
          "output_type": "stream",
          "name": "stdout",
          "text": [
            "\u001b[31mERROR: pip's dependency resolver does not currently take into account all the packages that are installed. This behaviour is the source of the following dependency conflicts.\n",
            "roboflow 0.2.18 requires urllib3==1.26.6, but you have urllib3 1.26.12 which is incompatible.\u001b[0m\n"
          ]
        },
        {
          "output_type": "display_data",
          "data": {
            "text/plain": [
              "<IPython.core.display.HTML object>"
            ],
            "text/html": [
              "Finishing last run (ID:1mbk4rxc) before initializing another..."
            ]
          },
          "metadata": {}
        },
        {
          "output_type": "display_data",
          "data": {
            "text/plain": [
              "<IPython.core.display.HTML object>"
            ],
            "text/html": [
              "Waiting for W&B process to finish... <strong style=\"color:green\">(success).</strong>"
            ]
          },
          "metadata": {}
        },
        {
          "output_type": "display_data",
          "data": {
            "text/plain": [
              "<IPython.core.display.HTML object>"
            ],
            "text/html": [
              "Synced <strong style=\"color:#cdcd00\">driven-puddle-5</strong>: <a href=\"https://wandb.ai/jamcabral/yolov5/runs/1mbk4rxc\" target=\"_blank\">https://wandb.ai/jamcabral/yolov5/runs/1mbk4rxc</a><br/>Synced 5 W&B file(s), 0 media file(s), 0 artifact file(s) and 0 other file(s)"
            ]
          },
          "metadata": {}
        },
        {
          "output_type": "display_data",
          "data": {
            "text/plain": [
              "<IPython.core.display.HTML object>"
            ],
            "text/html": [
              "Find logs at: <code>./wandb/run-20221106_145323-1mbk4rxc/logs</code>"
            ]
          },
          "metadata": {}
        },
        {
          "output_type": "display_data",
          "data": {
            "text/plain": [
              "<IPython.core.display.HTML object>"
            ],
            "text/html": [
              "Successfully finished last run (ID:1mbk4rxc). Initializing new run:<br/>"
            ]
          },
          "metadata": {}
        },
        {
          "output_type": "display_data",
          "data": {
            "text/plain": [
              "<IPython.core.display.HTML object>"
            ],
            "text/html": [
              "Tracking run with wandb version 0.13.5"
            ]
          },
          "metadata": {}
        },
        {
          "output_type": "display_data",
          "data": {
            "text/plain": [
              "<IPython.core.display.HTML object>"
            ],
            "text/html": [
              "Run data is saved locally in <code>/content/yolov5/wandb/run-20221106_145729-kolydpry</code>"
            ]
          },
          "metadata": {}
        },
        {
          "output_type": "display_data",
          "data": {
            "text/plain": [
              "<IPython.core.display.HTML object>"
            ],
            "text/html": [
              "Syncing run <strong><a href=\"https://wandb.ai/jamcabral/yolov5/runs/kolydpry\" target=\"_blank\">proud-resonance-6</a></strong> to <a href=\"https://wandb.ai/jamcabral/yolov5\" target=\"_blank\">Weights & Biases</a> (<a href=\"https://wandb.me/run\" target=\"_blank\">docs</a>)<br/>"
            ]
          },
          "metadata": {}
        },
        {
          "output_type": "execute_result",
          "data": {
            "text/html": [
              "<button onClick=\"this.nextSibling.style.display='block';this.style.display='none';\">Display W&B run</button><iframe src=\"https://wandb.ai/jamcabral/yolov5/runs/kolydpry?jupyter=true\" style=\"border:none;width:100%;height:420px;display:none;\"></iframe>"
            ],
            "text/plain": [
              "<wandb.sdk.wandb_run.Run at 0x7f491c142e90>"
            ]
          },
          "metadata": {},
          "execution_count": 11
        }
      ]
    },
    {
      "cell_type": "code",
      "source": [
        "import sys\n",
        "def wandb_colab_login():\n",
        "  \"\"\"Temporary hack to prevent colab from hanging\"\"\"\n",
        "  sys.modules[\"google.colab2\"] = sys.modules[\"google.colab\"]\n",
        "  del sys.modules[\"google.colab\"]\n",
        "  wandb.login()\n",
        "  sys.modules[\"google.colab\"] = sys.modules[\"google.colab2\"]\n",
        "wandb_colab_login()"
      ],
      "metadata": {
        "colab": {
          "base_uri": "https://localhost:8080/",
          "height": 0
        },
        "id": "fNG-tnRmLx2r",
        "outputId": "7e1b36b7-9431-4138-ae53-7d5698e6200c"
      },
      "execution_count": 12,
      "outputs": [
        {
          "output_type": "stream",
          "name": "stderr",
          "text": [
            "\u001b[34m\u001b[1mwandb\u001b[0m: \u001b[33mWARNING\u001b[0m Calling wandb.login() after wandb.init() has no effect.\n"
          ]
        }
      ]
    },
    {
      "cell_type": "code",
      "execution_count": 13,
      "metadata": {
        "colab": {
          "base_uri": "https://localhost:8080/",
          "height": 0
        },
        "id": "6QczYb5DpSz6",
        "outputId": "07376493-b725-4168-fb18-fa7a33b82a73"
      },
      "outputs": [
        {
          "output_type": "stream",
          "name": "stdout",
          "text": [
            "/content/yolov5\n"
          ]
        }
      ],
      "source": [
        "%cd ../yolov5\n",
        "from utils.downloads import attempt_download\n",
        "\n",
        "p5 = ['n', 's', 'm', 'l', 'x']  # P5 models\n",
        "cls = [f'{x}-cls' for x in p5]  # classification models\n",
        "\n",
        "for x in cls:\n",
        "    attempt_download(f'weights/yolov5{x}.pt')"
      ]
    },
    {
      "cell_type": "code",
      "execution_count": 14,
      "metadata": {
        "id": "JD1swamrruA1"
      },
      "outputs": [],
      "source": [
        "#Save the dataset name to the environment so we can use it in a system call later\n",
        "import os\n",
        "dataset_name = dataset.location.split(os.sep)[-1]\n",
        "os.environ[\"DATASET_NAME\"] = dataset_name"
      ]
    },
    {
      "cell_type": "code",
      "execution_count": 15,
      "metadata": {
        "colab": {
          "base_uri": "https://localhost:8080/",
          "height": 0
        },
        "id": "pwbVz4RKpdkJ",
        "outputId": "5cb00b5f-f153-4fc3-c010-415e9a519e6c"
      },
      "outputs": [
        {
          "output_type": "stream",
          "name": "stdout",
          "text": [
            "\u001b[34m\u001b[1mwandb\u001b[0m: Currently logged in as: \u001b[33mjamcabral\u001b[0m. Use \u001b[1m`wandb login --relogin`\u001b[0m to force relogin\n",
            "\u001b[34m\u001b[1mclassify/train: \u001b[0mmodel=yolov5s-cls.pt, data=car_mot_cam-2, epochs=100, batch_size=64, imgsz=128, nosave=False, cache=None, device=, workers=8, project=runs/train-cls, name=exp, exist_ok=False, pretrained=weights/yolov5s-cls.pt, optimizer=Adam, lr0=0.001, decay=5e-05, label_smoothing=0.1, cutoff=None, dropout=None, verbose=False, seed=0, local_rank=-1\n",
            "\u001b[34m\u001b[1mgithub: \u001b[0mup to date with https://github.com/ultralytics/yolov5 ✅\n",
            "YOLOv5 🚀 v6.2-227-g78ed31c Python-3.7.15 torch-1.12.1+cu113 CPU\n",
            "\n",
            "\u001b[34m\u001b[1mTensorBoard: \u001b[0mStart with 'tensorboard --logdir runs/train-cls', view at http://localhost:6006/\n",
            "\u001b[34m\u001b[1mwandb\u001b[0m: Tracking run with wandb version 0.13.5\n",
            "\u001b[34m\u001b[1mwandb\u001b[0m: Run data is saved locally in \u001b[35m\u001b[1m/content/yolov5/wandb/run-20221106_145745-22gwv7qk\u001b[0m\n",
            "\u001b[34m\u001b[1mwandb\u001b[0m: Run \u001b[1m`wandb offline`\u001b[0m to turn off syncing.\n",
            "\u001b[34m\u001b[1mwandb\u001b[0m: Syncing run \u001b[33mlegendary-water-6\u001b[0m\n",
            "\u001b[34m\u001b[1mwandb\u001b[0m: ⭐️ View project at \u001b[34m\u001b[4mhttps://wandb.ai/jamcabral/YOLOv5-Classify\u001b[0m\n",
            "\u001b[34m\u001b[1mwandb\u001b[0m: 🚀 View run at \u001b[34m\u001b[4mhttps://wandb.ai/jamcabral/YOLOv5-Classify/runs/22gwv7qk\u001b[0m\n",
            "\u001b[34m\u001b[1malbumentations: \u001b[0mRandomResizedCrop(p=1.0, height=128, width=128, scale=(0.08, 1.0), ratio=(0.75, 1.3333333333333333), interpolation=1), HorizontalFlip(p=0.5), ColorJitter(p=0.5, brightness=[0.6, 1.4], contrast=[0.6, 1.4], saturation=[0.6, 1.4], hue=[0, 0]), Normalize(p=1.0, mean=(0.485, 0.456, 0.406), std=(0.229, 0.224, 0.225), max_pixel_value=255.0), ToTensorV2(always_apply=True, p=1.0, transpose_mask=False)\n",
            "Model summary: 149 layers, 4176323 parameters, 4176323 gradients, 10.5 GFLOPs\n",
            "\u001b[34m\u001b[1moptimizer:\u001b[0m Adam(lr=0.001) with parameter groups 32 weight(decay=0.0), 33 weight(decay=5e-05), 33 bias\n",
            "Image sizes 128 train, 128 test\n",
            "Using 1 dataloader workers\n",
            "Logging results to \u001b[1mruns/train-cls/exp4\u001b[0m\n",
            "Starting yolov5s-cls.pt training on car_mot_cam-2 dataset with 3 classes for 100 epochs...\n",
            "\n",
            "     Epoch   GPU_mem  train_loss   test_loss    top1_acc    top5_acc\n",
            "     1/100        0G        1.19        1.17      0.0172           1: 100% 5/5 [00:14<00:00,  2.90s/it]\n",
            "     2/100        0G        1.04        1.32      0.0172           1: 100% 5/5 [00:13<00:00,  2.79s/it]\n",
            "     3/100        0G        1.01        1.46      0.0172           1: 100% 5/5 [00:13<00:00,  2.78s/it]\n",
            "     4/100        0G        1.03         1.6      0.0172           1: 100% 5/5 [00:13<00:00,  2.79s/it]\n",
            "     5/100        0G        1.04        1.54      0.0172           1: 100% 5/5 [00:14<00:00,  2.82s/it]\n",
            "     6/100        0G       0.966        1.43      0.0172           1: 100% 5/5 [00:14<00:00,  2.82s/it]\n",
            "     7/100        0G       0.976        1.46      0.0172           1: 100% 5/5 [00:13<00:00,  2.77s/it]\n",
            "     8/100        0G       0.957        1.47      0.0172           1: 100% 5/5 [00:13<00:00,  2.76s/it]\n",
            "     9/100        0G       0.893        1.51      0.0172           1: 100% 5/5 [00:13<00:00,  2.78s/it]\n",
            "    10/100        0G       0.915         1.5      0.0172           1: 100% 5/5 [00:13<00:00,  2.77s/it]\n",
            "    11/100        0G       0.906         1.3      0.0172           1: 100% 5/5 [00:13<00:00,  2.76s/it]\n",
            "    12/100        0G       0.878        1.24      0.0172           1: 100% 5/5 [00:13<00:00,  2.78s/it]\n",
            "    13/100        0G       0.867        1.37      0.0172           1: 100% 5/5 [00:13<00:00,  2.77s/it]\n",
            "    14/100        0G       0.815        1.29      0.0172           1: 100% 5/5 [00:13<00:00,  2.75s/it]\n",
            "    15/100        0G       0.881        1.19      0.0172           1: 100% 5/5 [00:13<00:00,  2.76s/it]\n",
            "    16/100        0G       0.853        1.47      0.0172           1: 100% 5/5 [00:13<00:00,  2.76s/it]\n",
            "    17/100        0G       0.803        1.35      0.0517           1: 100% 5/5 [00:13<00:00,  2.74s/it]\n",
            "    18/100        0G       0.819        1.24       0.069           1: 100% 5/5 [00:13<00:00,  2.76s/it]\n",
            "    19/100        0G       0.807        1.15        0.19           1: 100% 5/5 [00:13<00:00,  2.75s/it]\n",
            "    20/100        0G        0.83        1.22      0.0862           1: 100% 5/5 [00:13<00:00,  2.76s/it]\n",
            "    21/100        0G       0.773        1.29      0.0862           1: 100% 5/5 [00:13<00:00,  2.78s/it]\n",
            "    22/100        0G       0.839        1.12      0.0862           1: 100% 5/5 [00:13<00:00,  2.77s/it]\n",
            "    23/100        0G       0.767         1.4      0.0345           1: 100% 5/5 [00:13<00:00,  2.76s/it]\n",
            "    24/100        0G       0.773        1.55      0.0345           1: 100% 5/5 [00:14<00:00,  2.87s/it]\n",
            "    25/100        0G       0.763        1.42      0.0345           1: 100% 5/5 [00:13<00:00,  2.76s/it]\n",
            "    26/100        0G       0.762        1.42      0.0345           1: 100% 5/5 [00:13<00:00,  2.75s/it]\n",
            "    27/100        0G       0.736        1.33      0.0345           1: 100% 5/5 [00:13<00:00,  2.76s/it]\n",
            "    28/100        0G       0.731        1.47      0.0345           1: 100% 5/5 [00:13<00:00,  2.77s/it]\n",
            "    29/100        0G       0.757        1.43      0.0172           1: 100% 5/5 [00:13<00:00,  2.79s/it]\n",
            "    30/100        0G       0.744        1.43      0.0345           1: 100% 5/5 [00:13<00:00,  2.76s/it]\n",
            "    31/100        0G       0.771        1.41      0.0345           1: 100% 5/5 [00:13<00:00,  2.79s/it]\n",
            "    32/100        0G       0.781        1.33      0.0345           1: 100% 5/5 [00:13<00:00,  2.79s/it]\n",
            "    33/100        0G       0.744        1.55      0.0172           1: 100% 5/5 [00:13<00:00,  2.78s/it]\n",
            "    34/100        0G        0.74        1.48      0.0345           1: 100% 5/5 [00:13<00:00,  2.79s/it]\n",
            "    35/100        0G       0.779         1.2       0.103           1: 100% 5/5 [00:13<00:00,  2.78s/it]\n",
            "    36/100        0G       0.734        1.21      0.0862           1: 100% 5/5 [00:13<00:00,  2.79s/it]\n",
            "    37/100        0G       0.766        1.36      0.0172           1: 100% 5/5 [00:13<00:00,  2.77s/it]\n",
            "    38/100        0G       0.754        1.44      0.0172           1: 100% 5/5 [00:13<00:00,  2.77s/it]\n",
            "    39/100        0G       0.744        1.47      0.0172           1: 100% 5/5 [00:13<00:00,  2.76s/it]\n",
            "    40/100        0G       0.738        1.18      0.0517           1: 100% 5/5 [00:13<00:00,  2.76s/it]\n",
            "    41/100        0G       0.718        1.29      0.0517           1: 100% 5/5 [00:13<00:00,  2.75s/it]\n",
            "    42/100        0G       0.716        1.45      0.0345           1: 100% 5/5 [00:13<00:00,  2.76s/it]\n",
            "    43/100        0G       0.733        1.35      0.0345           1: 100% 5/5 [00:13<00:00,  2.76s/it]\n",
            "    44/100        0G       0.727        1.45      0.0345           1: 100% 5/5 [00:13<00:00,  2.79s/it]\n",
            "    45/100        0G       0.737        1.59      0.0345           1: 100% 5/5 [00:13<00:00,  2.76s/it]\n",
            "    46/100        0G       0.725        1.67      0.0172           1: 100% 5/5 [00:13<00:00,  2.72s/it]\n",
            "    47/100        0G       0.721        1.32      0.0345           1: 100% 5/5 [00:13<00:00,  2.72s/it]\n",
            "    48/100        0G       0.697        1.56      0.0345           1: 100% 5/5 [00:13<00:00,  2.73s/it]\n",
            "    49/100        0G        0.71        1.52      0.0345           1: 100% 5/5 [00:13<00:00,  2.73s/it]\n",
            "    50/100        0G       0.728        1.17       0.155           1: 100% 5/5 [00:13<00:00,  2.73s/it]\n",
            "    51/100        0G       0.706        1.49      0.0172           1: 100% 5/5 [00:13<00:00,  2.74s/it]\n",
            "    52/100        0G       0.704        1.61      0.0172           1: 100% 5/5 [00:13<00:00,  2.73s/it]\n",
            "    53/100        0G       0.686        1.32      0.0345           1: 100% 5/5 [00:13<00:00,  2.74s/it]\n",
            "    54/100        0G       0.705         1.5      0.0862           1: 100% 5/5 [00:13<00:00,  2.71s/it]\n",
            "    55/100        0G       0.701         1.5      0.0345           1: 100% 5/5 [00:13<00:00,  2.72s/it]\n",
            "    56/100        0G       0.633        1.45      0.0862           1: 100% 5/5 [00:13<00:00,  2.73s/it]\n",
            "    57/100        0G       0.718        1.75      0.0517           1: 100% 5/5 [00:13<00:00,  2.74s/it]\n",
            "    58/100        0G       0.753        1.66      0.0517           1: 100% 5/5 [00:13<00:00,  2.73s/it]\n",
            "    59/100        0G       0.709         1.1       0.397           1: 100% 5/5 [00:13<00:00,  2.74s/it]\n",
            "    60/100        0G       0.665        1.42        0.19           1: 100% 5/5 [00:13<00:00,  2.73s/it]\n",
            "    61/100        0G       0.659       0.871        0.69           1: 100% 5/5 [00:13<00:00,  2.73s/it]\n",
            "    62/100        0G       0.665       0.842       0.672           1: 100% 5/5 [00:13<00:00,  2.72s/it]\n",
            "    63/100        0G       0.676       0.845       0.707           1: 100% 5/5 [00:13<00:00,  2.73s/it]\n",
            "    64/100        0G       0.648        1.03       0.552           1: 100% 5/5 [00:13<00:00,  2.74s/it]\n",
            "    65/100        0G       0.604       0.774       0.776           1: 100% 5/5 [00:13<00:00,  2.76s/it]\n",
            "    66/100        0G       0.656        1.31       0.431           1: 100% 5/5 [00:13<00:00,  2.75s/it]\n",
            "    67/100        0G       0.574         1.8       0.172           1: 100% 5/5 [00:13<00:00,  2.75s/it]\n",
            "    68/100        0G       0.617       0.886       0.672           1: 100% 5/5 [00:13<00:00,  2.76s/it]\n",
            "    69/100        0G       0.604        1.24       0.397           1: 100% 5/5 [00:13<00:00,  2.74s/it]\n",
            "    70/100        0G       0.562        1.64       0.328           1: 100% 5/5 [00:13<00:00,  2.76s/it]\n",
            "    71/100        0G       0.592        1.09       0.517           1: 100% 5/5 [00:13<00:00,  2.76s/it]\n",
            "    72/100        0G       0.537        1.35       0.414           1: 100% 5/5 [00:13<00:00,  2.75s/it]\n",
            "    73/100        0G       0.573        1.26       0.397           1: 100% 5/5 [00:13<00:00,  2.78s/it]\n",
            "    74/100        0G       0.576        1.06       0.534           1: 100% 5/5 [00:13<00:00,  2.78s/it]\n",
            "    75/100        0G       0.576        1.13       0.517           1: 100% 5/5 [00:13<00:00,  2.77s/it]\n",
            "    76/100        0G       0.558        1.35       0.414           1: 100% 5/5 [00:13<00:00,  2.74s/it]\n",
            "    77/100        0G       0.577        1.86       0.155           1: 100% 5/5 [00:13<00:00,  2.75s/it]\n",
            "    78/100        0G       0.612        1.12       0.517           1: 100% 5/5 [00:13<00:00,  2.74s/it]\n",
            "    79/100        0G       0.574        1.12       0.552           1: 100% 5/5 [00:13<00:00,  2.75s/it]\n",
            "    80/100        0G       0.583         1.9       0.224           1: 100% 5/5 [00:13<00:00,  2.78s/it]\n",
            "    81/100        0G        0.57        1.25       0.397           1: 100% 5/5 [00:13<00:00,  2.74s/it]\n",
            "    82/100        0G       0.548       0.609        0.81           1: 100% 5/5 [00:13<00:00,  2.72s/it]\n",
            "    83/100        0G       0.552        1.21       0.534           1: 100% 5/5 [00:13<00:00,  2.73s/it]\n",
            "    84/100        0G       0.564        1.54       0.397           1: 100% 5/5 [00:13<00:00,  2.73s/it]\n",
            "    85/100        0G       0.535        1.54       0.414           1: 100% 5/5 [00:13<00:00,  2.72s/it]\n",
            "    86/100        0G       0.549        1.34       0.483           1: 100% 5/5 [00:13<00:00,  2.75s/it]\n",
            "    87/100        0G       0.499         1.1       0.534           1: 100% 5/5 [00:13<00:00,  2.73s/it]\n",
            "    88/100        0G       0.555        1.01       0.569           1: 100% 5/5 [00:13<00:00,  2.73s/it]\n",
            "    89/100        0G       0.504        1.02       0.603           1: 100% 5/5 [00:13<00:00,  2.72s/it]\n",
            "    90/100        0G       0.521        1.05       0.552           1: 100% 5/5 [00:13<00:00,  2.72s/it]\n",
            "    91/100        0G       0.568        1.19         0.5           1: 100% 5/5 [00:13<00:00,  2.70s/it]\n",
            "    92/100        0G       0.475        1.22       0.552           1: 100% 5/5 [00:13<00:00,  2.73s/it]\n",
            "    93/100        0G       0.482        1.32       0.483           1: 100% 5/5 [00:13<00:00,  2.74s/it]\n",
            "    94/100        0G       0.507        1.24         0.5           1: 100% 5/5 [00:13<00:00,  2.74s/it]\n",
            "    95/100        0G        0.48        1.03       0.603           1: 100% 5/5 [00:13<00:00,  2.75s/it]\n",
            "    96/100        0G       0.509        1.02       0.603           1: 100% 5/5 [00:13<00:00,  2.73s/it]\n",
            "    97/100        0G       0.484        1.07       0.603           1: 100% 5/5 [00:13<00:00,  2.75s/it]\n",
            "    98/100        0G       0.512        1.16       0.586           1: 100% 5/5 [00:13<00:00,  2.77s/it]\n",
            "    99/100        0G       0.449        1.21       0.517           1: 100% 5/5 [00:13<00:00,  2.77s/it]\n",
            "   100/100        0G       0.506        1.19       0.534           1: 100% 5/5 [00:13<00:00,  2.73s/it]\n",
            "\n",
            "Training complete (0.385 hours)\n",
            "Results saved to \u001b[1mruns/train-cls/exp4\u001b[0m\n",
            "Predict:         python classify/predict.py --weights runs/train-cls/exp4/weights/best.pt --source im.jpg\n",
            "Validate:        python classify/val.py --weights runs/train-cls/exp4/weights/best.pt --data car_mot_cam-2\n",
            "Export:          python export.py --weights runs/train-cls/exp4/weights/best.pt --include onnx\n",
            "PyTorch Hub:     model = torch.hub.load('ultralytics/yolov5', 'custom', 'runs/train-cls/exp4/weights/best.pt')\n",
            "Visualize:       https://netron.app\n",
            "\n"
          ]
        }
      ],
      "source": [
        "!python classify/train.py --model yolov5s-cls.pt --data $DATASET_NAME --epochs 100 --img 128 --pretrained weights/yolov5s-cls.pt\n"
      ]
    },
    {
      "cell_type": "code",
      "execution_count": null,
      "metadata": {
        "id": "0wtzm7TMqiDu"
      },
      "outputs": [],
      "source": [
        "!python classify/val.py --weights runs/train-cls/exp/weights/best.pt --data ../datasets/$DATASET_NAME\n"
      ]
    },
    {
      "cell_type": "code",
      "execution_count": null,
      "metadata": {
        "id": "BDUo2SGPqqMd"
      },
      "outputs": [],
      "source": []
    }
  ],
  "metadata": {
    "colab": {
      "provenance": [],
      "collapsed_sections": []
    },
    "kernelspec": {
      "display_name": "Python 3",
      "name": "python3"
    },
    "language_info": {
      "name": "python"
    },
    "accelerator": "GPU",
    "gpuClass": "standard"
  },
  "nbformat": 4,
  "nbformat_minor": 0
}